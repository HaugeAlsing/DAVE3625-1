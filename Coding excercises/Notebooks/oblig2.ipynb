{
 "cells": [
  {
   "cell_type": "markdown",
   "id": "af6d9a0e",
   "metadata": {},
   "source": [
    "Imports from xgboost for regression models, sklearn for mse, pandas for dataframe and numpy for numbers"
   ]
  },
  {
   "cell_type": "code",
   "execution_count": 17,
   "id": "d76f5128-b704-4afa-8042-9e1d6443a1df",
   "metadata": {},
   "outputs": [],
   "source": [
    "import xgboost as xgb\n",
    "from sklearn.metrics import mean_squared_error\n",
    "from sklearn.model_selection import train_test_split\n",
    "import pandas as pd\n",
    "import numpy as np\n",
    "from sklearn.model_selection import RandomizedSearchCV, GridSearchCV"
   ]
  },
  {
   "cell_type": "markdown",
   "id": "4675b3ca",
   "metadata": {},
   "source": [
    "Importation of the dataset containing data to train our model with"
   ]
  },
  {
   "cell_type": "code",
   "execution_count": 18,
   "id": "cce1d440-ad7b-4cee-91a5-7147a5e24cba",
   "metadata": {},
   "outputs": [],
   "source": [
    "df = pd.read_csv(\"../datafiles/Train_data.csv\")"
   ]
  },
  {
   "cell_type": "markdown",
   "id": "af8ff534",
   "metadata": {},
   "source": [
    "Calling the head of the dataset to view it"
   ]
  },
  {
   "cell_type": "code",
   "execution_count": 19,
   "id": "c5f54a09-5982-4117-b499-438840446a29",
   "metadata": {},
   "outputs": [
    {
     "data": {
      "text/html": [
       "<div>\n",
       "<style scoped>\n",
       "    .dataframe tbody tr th:only-of-type {\n",
       "        vertical-align: middle;\n",
       "    }\n",
       "\n",
       "    .dataframe tbody tr th {\n",
       "        vertical-align: top;\n",
       "    }\n",
       "\n",
       "    .dataframe thead th {\n",
       "        text-align: right;\n",
       "    }\n",
       "</style>\n",
       "<table border=\"1\" class=\"dataframe\">\n",
       "  <thead>\n",
       "    <tr style=\"text-align: right;\">\n",
       "      <th></th>\n",
       "      <th>PassengerId</th>\n",
       "      <th>Survived</th>\n",
       "      <th>Pclass</th>\n",
       "      <th>Sex</th>\n",
       "      <th>SibSp</th>\n",
       "      <th>Parch</th>\n",
       "      <th>Ticket</th>\n",
       "      <th>Fare</th>\n",
       "      <th>Cabin</th>\n",
       "      <th>Embarked</th>\n",
       "      <th>Age</th>\n",
       "    </tr>\n",
       "  </thead>\n",
       "  <tbody>\n",
       "    <tr>\n",
       "      <th>0</th>\n",
       "      <td>329</td>\n",
       "      <td>1</td>\n",
       "      <td>3</td>\n",
       "      <td>0</td>\n",
       "      <td>1</td>\n",
       "      <td>1</td>\n",
       "      <td>346</td>\n",
       "      <td>20.525</td>\n",
       "      <td>-1</td>\n",
       "      <td>2</td>\n",
       "      <td>31.0</td>\n",
       "    </tr>\n",
       "    <tr>\n",
       "      <th>1</th>\n",
       "      <td>74</td>\n",
       "      <td>0</td>\n",
       "      <td>3</td>\n",
       "      <td>1</td>\n",
       "      <td>1</td>\n",
       "      <td>0</td>\n",
       "      <td>166</td>\n",
       "      <td>14.4542</td>\n",
       "      <td>-1</td>\n",
       "      <td>0</td>\n",
       "      <td>26.0</td>\n",
       "    </tr>\n",
       "    <tr>\n",
       "      <th>2</th>\n",
       "      <td>254</td>\n",
       "      <td>0</td>\n",
       "      <td>3</td>\n",
       "      <td>1</td>\n",
       "      <td>1</td>\n",
       "      <td>0</td>\n",
       "      <td>419</td>\n",
       "      <td>16.1</td>\n",
       "      <td>-1</td>\n",
       "      <td>2</td>\n",
       "      <td>30.0</td>\n",
       "    </tr>\n",
       "    <tr>\n",
       "      <th>3</th>\n",
       "      <td>720</td>\n",
       "      <td>0</td>\n",
       "      <td>3</td>\n",
       "      <td>1</td>\n",
       "      <td>0</td>\n",
       "      <td>0</td>\n",
       "      <td>260</td>\n",
       "      <td>7.775</td>\n",
       "      <td>-1</td>\n",
       "      <td>2</td>\n",
       "      <td>33.0</td>\n",
       "    </tr>\n",
       "    <tr>\n",
       "      <th>4</th>\n",
       "      <td>667</td>\n",
       "      <td>0</td>\n",
       "      <td>2</td>\n",
       "      <td>1</td>\n",
       "      <td>0</td>\n",
       "      <td>0</td>\n",
       "      <td>104</td>\n",
       "      <td>13.0</td>\n",
       "      <td>-1</td>\n",
       "      <td>2</td>\n",
       "      <td>25.0</td>\n",
       "    </tr>\n",
       "  </tbody>\n",
       "</table>\n",
       "</div>"
      ],
      "text/plain": [
       "   PassengerId  Survived  Pclass  Sex  SibSp  Parch Ticket     Fare  Cabin  \\\n",
       "0          329         1       3    0      1      1    346   20.525     -1   \n",
       "1           74         0       3    1      1      0    166  14.4542     -1   \n",
       "2          254         0       3    1      1      0    419     16.1     -1   \n",
       "3          720         0       3    1      0      0    260    7.775     -1   \n",
       "4          667         0       2    1      0      0    104     13.0     -1   \n",
       "\n",
       "   Embarked   Age  \n",
       "0         2  31.0  \n",
       "1         0  26.0  \n",
       "2         2  30.0  \n",
       "3         2  33.0  \n",
       "4         2  25.0  "
      ]
     },
     "execution_count": 19,
     "metadata": {},
     "output_type": "execute_result"
    }
   ],
   "source": [
    "df.head()"
   ]
  },
  {
   "cell_type": "markdown",
   "id": "49aa85df",
   "metadata": {},
   "source": [
    "Locating a string in the fare column. Our data set needs to be cleaned."
   ]
  },
  {
   "cell_type": "code",
   "execution_count": 20,
   "id": "a443dee1-420b-4a32-9de7-5653144c3623",
   "metadata": {},
   "outputs": [
    {
     "data": {
      "text/html": [
       "<div>\n",
       "<style scoped>\n",
       "    .dataframe tbody tr th:only-of-type {\n",
       "        vertical-align: middle;\n",
       "    }\n",
       "\n",
       "    .dataframe tbody tr th {\n",
       "        vertical-align: top;\n",
       "    }\n",
       "\n",
       "    .dataframe thead th {\n",
       "        text-align: right;\n",
       "    }\n",
       "</style>\n",
       "<table border=\"1\" class=\"dataframe\">\n",
       "  <thead>\n",
       "    <tr style=\"text-align: right;\">\n",
       "      <th></th>\n",
       "      <th>PassengerId</th>\n",
       "      <th>Survived</th>\n",
       "      <th>Pclass</th>\n",
       "      <th>Sex</th>\n",
       "      <th>SibSp</th>\n",
       "      <th>Parch</th>\n",
       "      <th>Ticket</th>\n",
       "      <th>Fare</th>\n",
       "      <th>Cabin</th>\n",
       "      <th>Embarked</th>\n",
       "      <th>Age</th>\n",
       "    </tr>\n",
       "  </thead>\n",
       "  <tbody>\n",
       "    <tr>\n",
       "      <th>1361</th>\n",
       "      <td>765</td>\n",
       "      <td>0</td>\n",
       "      <td>3</td>\n",
       "      <td>1</td>\n",
       "      <td>0</td>\n",
       "      <td>0</td>\n",
       "      <td>268</td>\n",
       "      <td>Kanskje du burde fjerne denne?</td>\n",
       "      <td>-1</td>\n",
       "      <td>2</td>\n",
       "      <td>16.0</td>\n",
       "    </tr>\n",
       "  </tbody>\n",
       "</table>\n",
       "</div>"
      ],
      "text/plain": [
       "      PassengerId  Survived  Pclass  Sex  SibSp  Parch Ticket  \\\n",
       "1361          765         0       3    1      0      0    268   \n",
       "\n",
       "                                Fare  Cabin  Embarked   Age  \n",
       "1361  Kanskje du burde fjerne denne?     -1         2  16.0  "
      ]
     },
     "execution_count": 20,
     "metadata": {},
     "output_type": "execute_result"
    }
   ],
   "source": [
    "df.loc[df[\"Fare\"] == \"Kanskje du burde fjerne denne?\"]"
   ]
  },
  {
   "cell_type": "markdown",
   "id": "bc01e30c",
   "metadata": {},
   "source": [
    "Using df.apply and pd.to_numeric to convert everything to numbers and coerce on errors"
   ]
  },
  {
   "cell_type": "code",
   "execution_count": 21,
   "id": "3874ccc1-b111-4779-8dcf-937a16d7f6df",
   "metadata": {},
   "outputs": [],
   "source": [
    "df = df.apply(pd.to_numeric, errors=\"coerce\")"
   ]
  },
  {
   "cell_type": "markdown",
   "id": "c7b26dab",
   "metadata": {},
   "source": [
    "Having used the df.apply(pd.to_numeric, errors=\"coerce\"), we now have the earliger string cells marked as NaN. We then clean the dataset by calling .dropna()"
   ]
  },
  {
   "cell_type": "code",
   "execution_count": 22,
   "id": "0ede7ecb-13c1-434c-810d-183b59633e22",
   "metadata": {},
   "outputs": [],
   "source": [
    "df = df.dropna()"
   ]
  },
  {
   "cell_type": "markdown",
   "id": "43720a36",
   "metadata": {},
   "source": [
    "Validating our earlier row containing \"Kanskje du burde fjerne denne?\" as a value in the fare cell now has been removed."
   ]
  },
  {
   "cell_type": "code",
   "execution_count": 23,
   "id": "1bdb55eb-3cf9-4188-9e61-7b9a618a7289",
   "metadata": {},
   "outputs": [
    {
     "data": {
      "text/html": [
       "<div>\n",
       "<style scoped>\n",
       "    .dataframe tbody tr th:only-of-type {\n",
       "        vertical-align: middle;\n",
       "    }\n",
       "\n",
       "    .dataframe tbody tr th {\n",
       "        vertical-align: top;\n",
       "    }\n",
       "\n",
       "    .dataframe thead th {\n",
       "        text-align: right;\n",
       "    }\n",
       "</style>\n",
       "<table border=\"1\" class=\"dataframe\">\n",
       "  <thead>\n",
       "    <tr style=\"text-align: right;\">\n",
       "      <th></th>\n",
       "      <th>PassengerId</th>\n",
       "      <th>Survived</th>\n",
       "      <th>Pclass</th>\n",
       "      <th>Sex</th>\n",
       "      <th>SibSp</th>\n",
       "      <th>Parch</th>\n",
       "      <th>Ticket</th>\n",
       "      <th>Fare</th>\n",
       "      <th>Cabin</th>\n",
       "      <th>Embarked</th>\n",
       "      <th>Age</th>\n",
       "    </tr>\n",
       "  </thead>\n",
       "  <tbody>\n",
       "  </tbody>\n",
       "</table>\n",
       "</div>"
      ],
      "text/plain": [
       "Empty DataFrame\n",
       "Columns: [PassengerId, Survived, Pclass, Sex, SibSp, Parch, Ticket, Fare, Cabin, Embarked, Age]\n",
       "Index: []"
      ]
     },
     "execution_count": 23,
     "metadata": {},
     "output_type": "execute_result"
    }
   ],
   "source": [
    "df.loc[df[\"PassengerId\"] == 765]"
   ]
  },
  {
   "cell_type": "markdown",
   "id": "0fe941ae",
   "metadata": {},
   "source": [
    "Calling info() to study our data set. "
   ]
  },
  {
   "cell_type": "code",
   "execution_count": 24,
   "id": "177fb488-2cd5-4301-b211-deaa73f8b5a5",
   "metadata": {},
   "outputs": [
    {
     "name": "stdout",
     "output_type": "stream",
     "text": [
      "<class 'pandas.core.frame.DataFrame'>\n",
      "Int64Index: 1482 entries, 0 to 1492\n",
      "Data columns (total 11 columns):\n",
      " #   Column       Non-Null Count  Dtype  \n",
      "---  ------       --------------  -----  \n",
      " 0   PassengerId  1482 non-null   int64  \n",
      " 1   Survived     1482 non-null   int64  \n",
      " 2   Pclass       1482 non-null   int64  \n",
      " 3   Sex          1482 non-null   int64  \n",
      " 4   SibSp        1482 non-null   int64  \n",
      " 5   Parch        1482 non-null   int64  \n",
      " 6   Ticket       1482 non-null   float64\n",
      " 7   Fare         1482 non-null   float64\n",
      " 8   Cabin        1482 non-null   int64  \n",
      " 9   Embarked     1482 non-null   int64  \n",
      " 10  Age          1482 non-null   float64\n",
      "dtypes: float64(3), int64(8)\n",
      "memory usage: 138.9 KB\n"
     ]
    }
   ],
   "source": [
    "df.info()"
   ]
  },
  {
   "cell_type": "markdown",
   "id": "241af04d",
   "metadata": {},
   "source": [
    "By default df.drop_duplicates work on rows. We then call it two more times to drop duplicates of PassengerIds and Tickets."
   ]
  },
  {
   "cell_type": "code",
   "execution_count": 25,
   "id": "196165b6-533f-443a-8996-b06db7298bcd",
   "metadata": {},
   "outputs": [],
   "source": [
    "df = df.drop_duplicates()\n",
    "df = df.drop_duplicates(subset=[\"PassengerId\"])\n",
    "df = df.drop_duplicates(subset=[\"Ticket\"])"
   ]
  },
  {
   "cell_type": "markdown",
   "id": "c160b564",
   "metadata": {},
   "source": [
    "Cleaning our dataset by removing values in the age column under 0 years, and over 100 years. We then remove every ticket with a value under 0, and cast the ticket column to the datatype integer."
   ]
  },
  {
   "cell_type": "code",
   "execution_count": 26,
   "id": "338cc4e9-b6be-4701-81d3-97f4e7ebf0f6",
   "metadata": {},
   "outputs": [],
   "source": [
    "df = df[df[\"Age\"] > 0]\n",
    "df = df[df[\"Age\"] < 100] \n",
    "df = df[df[\"Ticket\"] > 0]\n",
    "df[\"Ticket\"] = df[\"Ticket\"].astype(int)"
   ]
  },
  {
   "cell_type": "markdown",
   "id": "32d0169e",
   "metadata": {},
   "source": [
    "Calling info to inspect our cleaned dataset."
   ]
  },
  {
   "cell_type": "code",
   "execution_count": 27,
   "id": "4f2e51f9-7546-4b08-8ed6-bb35868fc698",
   "metadata": {},
   "outputs": [
    {
     "name": "stdout",
     "output_type": "stream",
     "text": [
      "<class 'pandas.core.frame.DataFrame'>\n",
      "Int64Index: 402 entries, 0 to 1492\n",
      "Data columns (total 11 columns):\n",
      " #   Column       Non-Null Count  Dtype  \n",
      "---  ------       --------------  -----  \n",
      " 0   PassengerId  402 non-null    int64  \n",
      " 1   Survived     402 non-null    int64  \n",
      " 2   Pclass       402 non-null    int64  \n",
      " 3   Sex          402 non-null    int64  \n",
      " 4   SibSp        402 non-null    int64  \n",
      " 5   Parch        402 non-null    int64  \n",
      " 6   Ticket       402 non-null    int32  \n",
      " 7   Fare         402 non-null    float64\n",
      " 8   Cabin        402 non-null    int64  \n",
      " 9   Embarked     402 non-null    int64  \n",
      " 10  Age          402 non-null    float64\n",
      "dtypes: float64(2), int32(1), int64(8)\n",
      "memory usage: 36.1 KB\n"
     ]
    }
   ],
   "source": [
    "df.info()"
   ]
  },
  {
   "cell_type": "markdown",
   "id": "c029d03c",
   "metadata": {},
   "source": [
    "Creating a regression model from XGBregressor."
   ]
  },
  {
   "cell_type": "code",
   "execution_count": 28,
   "id": "3d548567-549a-400b-94e9-d33c0fd554bc",
   "metadata": {},
   "outputs": [],
   "source": [
    "model = xgb.XGBRegressor()"
   ]
  },
  {
   "cell_type": "markdown",
   "id": "805dbb9d",
   "metadata": {},
   "source": [
    "We let y be our \"Age\" and X be everything else."
   ]
  },
  {
   "cell_type": "code",
   "execution_count": 29,
   "id": "0aa7d820-d5a8-4a89-aa67-98086bdc0c80",
   "metadata": {},
   "outputs": [],
   "source": [
    "X = df.drop(\"Age\", axis=1)\n",
    "y = df[\"Age\"]"
   ]
  },
  {
   "cell_type": "markdown",
   "id": "36ccec8e",
   "metadata": {},
   "source": [
    "Validating that \"Age\" has been removed from X"
   ]
  },
  {
   "cell_type": "code",
   "execution_count": 30,
   "id": "fd4ea5a7-217f-4d67-91dd-b5a674dcff1e",
   "metadata": {},
   "outputs": [
    {
     "name": "stdout",
     "output_type": "stream",
     "text": [
      "<class 'pandas.core.frame.DataFrame'>\n",
      "Int64Index: 402 entries, 0 to 1492\n",
      "Data columns (total 10 columns):\n",
      " #   Column       Non-Null Count  Dtype  \n",
      "---  ------       --------------  -----  \n",
      " 0   PassengerId  402 non-null    int64  \n",
      " 1   Survived     402 non-null    int64  \n",
      " 2   Pclass       402 non-null    int64  \n",
      " 3   Sex          402 non-null    int64  \n",
      " 4   SibSp        402 non-null    int64  \n",
      " 5   Parch        402 non-null    int64  \n",
      " 6   Ticket       402 non-null    int32  \n",
      " 7   Fare         402 non-null    float64\n",
      " 8   Cabin        402 non-null    int64  \n",
      " 9   Embarked     402 non-null    int64  \n",
      "dtypes: float64(1), int32(1), int64(8)\n",
      "memory usage: 33.0 KB\n"
     ]
    }
   ],
   "source": [
    "X.info()"
   ]
  },
  {
   "cell_type": "markdown",
   "id": "6c09b77e",
   "metadata": {},
   "source": [
    "Validating that y only contains \"Age\"."
   ]
  },
  {
   "cell_type": "code",
   "execution_count": 31,
   "id": "7b9f6b8b-4dc1-4cf9-8451-5c415f3ba5df",
   "metadata": {},
   "outputs": [
    {
     "name": "stdout",
     "output_type": "stream",
     "text": [
      "<class 'pandas.core.series.Series'>\n",
      "Int64Index: 402 entries, 0 to 1492\n",
      "Series name: Age\n",
      "Non-Null Count  Dtype  \n",
      "--------------  -----  \n",
      "402 non-null    float64\n",
      "dtypes: float64(1)\n",
      "memory usage: 6.3 KB\n"
     ]
    }
   ],
   "source": [
    "y.info()"
   ]
  },
  {
   "cell_type": "markdown",
   "id": "d2612e83",
   "metadata": {},
   "source": [
    "Reading our dataset of test data from the csv file. As specified in the assignment we assume this data is clean and to be trusted."
   ]
  },
  {
   "cell_type": "code",
   "execution_count": 32,
   "id": "dda717bf-2ab0-4527-8c80-b8c087df6683",
   "metadata": {},
   "outputs": [],
   "source": [
    "df_test = pd.read_csv(\"../datafiles/Test_data.csv\")"
   ]
  },
  {
   "cell_type": "markdown",
   "id": "6250f692",
   "metadata": {},
   "source": [
    "y_test contains \"Age\", X_test contains everything else."
   ]
  },
  {
   "cell_type": "code",
   "execution_count": 33,
   "id": "ff74deda-84c3-4040-94db-361055adb796",
   "metadata": {},
   "outputs": [],
   "source": [
    "X_test = df_test.drop([\"Age\"], axis=1)\n",
    "y_test = df_test[\"Age\"]"
   ]
  },
  {
   "cell_type": "markdown",
   "id": "6868c37f",
   "metadata": {},
   "source": [
    "We train our model here by applying X and y to it."
   ]
  },
  {
   "cell_type": "code",
   "execution_count": 34,
   "id": "9a4feecf-130a-48f3-a3f1-8e8f92fd5696",
   "metadata": {},
   "outputs": [
    {
     "name": "stderr",
     "output_type": "stream",
     "text": [
      "c:\\Users\\alsin\\miniconda3\\envs\\intro-ai\\lib\\site-packages\\xgboost\\data.py:250: FutureWarning: pandas.Int64Index is deprecated and will be removed from pandas in a future version. Use pandas.Index with the appropriate dtype instead.\n",
      "  elif isinstance(data.columns, (pd.Int64Index, pd.RangeIndex)):\n"
     ]
    },
    {
     "data": {
      "text/html": [
       "<style>#sk-container-id-1 {color: black;background-color: white;}#sk-container-id-1 pre{padding: 0;}#sk-container-id-1 div.sk-toggleable {background-color: white;}#sk-container-id-1 label.sk-toggleable__label {cursor: pointer;display: block;width: 100%;margin-bottom: 0;padding: 0.3em;box-sizing: border-box;text-align: center;}#sk-container-id-1 label.sk-toggleable__label-arrow:before {content: \"▸\";float: left;margin-right: 0.25em;color: #696969;}#sk-container-id-1 label.sk-toggleable__label-arrow:hover:before {color: black;}#sk-container-id-1 div.sk-estimator:hover label.sk-toggleable__label-arrow:before {color: black;}#sk-container-id-1 div.sk-toggleable__content {max-height: 0;max-width: 0;overflow: hidden;text-align: left;background-color: #f0f8ff;}#sk-container-id-1 div.sk-toggleable__content pre {margin: 0.2em;color: black;border-radius: 0.25em;background-color: #f0f8ff;}#sk-container-id-1 input.sk-toggleable__control:checked~div.sk-toggleable__content {max-height: 200px;max-width: 100%;overflow: auto;}#sk-container-id-1 input.sk-toggleable__control:checked~label.sk-toggleable__label-arrow:before {content: \"▾\";}#sk-container-id-1 div.sk-estimator input.sk-toggleable__control:checked~label.sk-toggleable__label {background-color: #d4ebff;}#sk-container-id-1 div.sk-label input.sk-toggleable__control:checked~label.sk-toggleable__label {background-color: #d4ebff;}#sk-container-id-1 input.sk-hidden--visually {border: 0;clip: rect(1px 1px 1px 1px);clip: rect(1px, 1px, 1px, 1px);height: 1px;margin: -1px;overflow: hidden;padding: 0;position: absolute;width: 1px;}#sk-container-id-1 div.sk-estimator {font-family: monospace;background-color: #f0f8ff;border: 1px dotted black;border-radius: 0.25em;box-sizing: border-box;margin-bottom: 0.5em;}#sk-container-id-1 div.sk-estimator:hover {background-color: #d4ebff;}#sk-container-id-1 div.sk-parallel-item::after {content: \"\";width: 100%;border-bottom: 1px solid gray;flex-grow: 1;}#sk-container-id-1 div.sk-label:hover label.sk-toggleable__label {background-color: #d4ebff;}#sk-container-id-1 div.sk-serial::before {content: \"\";position: absolute;border-left: 1px solid gray;box-sizing: border-box;top: 0;bottom: 0;left: 50%;z-index: 0;}#sk-container-id-1 div.sk-serial {display: flex;flex-direction: column;align-items: center;background-color: white;padding-right: 0.2em;padding-left: 0.2em;position: relative;}#sk-container-id-1 div.sk-item {position: relative;z-index: 1;}#sk-container-id-1 div.sk-parallel {display: flex;align-items: stretch;justify-content: center;background-color: white;position: relative;}#sk-container-id-1 div.sk-item::before, #sk-container-id-1 div.sk-parallel-item::before {content: \"\";position: absolute;border-left: 1px solid gray;box-sizing: border-box;top: 0;bottom: 0;left: 50%;z-index: -1;}#sk-container-id-1 div.sk-parallel-item {display: flex;flex-direction: column;z-index: 1;position: relative;background-color: white;}#sk-container-id-1 div.sk-parallel-item:first-child::after {align-self: flex-end;width: 50%;}#sk-container-id-1 div.sk-parallel-item:last-child::after {align-self: flex-start;width: 50%;}#sk-container-id-1 div.sk-parallel-item:only-child::after {width: 0;}#sk-container-id-1 div.sk-dashed-wrapped {border: 1px dashed gray;margin: 0 0.4em 0.5em 0.4em;box-sizing: border-box;padding-bottom: 0.4em;background-color: white;}#sk-container-id-1 div.sk-label label {font-family: monospace;font-weight: bold;display: inline-block;line-height: 1.2em;}#sk-container-id-1 div.sk-label-container {text-align: center;}#sk-container-id-1 div.sk-container {/* jupyter's `normalize.less` sets `[hidden] { display: none; }` but bootstrap.min.css set `[hidden] { display: none !important; }` so we also need the `!important` here to be able to override the default hidden behavior on the sphinx rendered scikit-learn.org. See: https://github.com/scikit-learn/scikit-learn/issues/21755 */display: inline-block !important;position: relative;}#sk-container-id-1 div.sk-text-repr-fallback {display: none;}</style><div id=\"sk-container-id-1\" class=\"sk-top-container\"><div class=\"sk-text-repr-fallback\"><pre>XGBRegressor(base_score=0.5, booster=&#x27;gbtree&#x27;, colsample_bylevel=1,\n",
       "             colsample_bynode=1, colsample_bytree=1, enable_categorical=False,\n",
       "             gamma=0, gpu_id=-1, importance_type=None,\n",
       "             interaction_constraints=&#x27;&#x27;, learning_rate=0.300000012,\n",
       "             max_delta_step=0, max_depth=6, min_child_weight=1, missing=nan,\n",
       "             monotone_constraints=&#x27;()&#x27;, n_estimators=100, n_jobs=12,\n",
       "             num_parallel_tree=1, predictor=&#x27;auto&#x27;, random_state=0, reg_alpha=0,\n",
       "             reg_lambda=1, scale_pos_weight=1, subsample=1, tree_method=&#x27;exact&#x27;,\n",
       "             validate_parameters=1, verbosity=None)</pre><b>In a Jupyter environment, please rerun this cell to show the HTML representation or trust the notebook. <br />On GitHub, the HTML representation is unable to render, please try loading this page with nbviewer.org.</b></div><div class=\"sk-container\" hidden><div class=\"sk-item\"><div class=\"sk-estimator sk-toggleable\"><input class=\"sk-toggleable__control sk-hidden--visually\" id=\"sk-estimator-id-1\" type=\"checkbox\" checked><label for=\"sk-estimator-id-1\" class=\"sk-toggleable__label sk-toggleable__label-arrow\">XGBRegressor</label><div class=\"sk-toggleable__content\"><pre>XGBRegressor(base_score=0.5, booster=&#x27;gbtree&#x27;, colsample_bylevel=1,\n",
       "             colsample_bynode=1, colsample_bytree=1, enable_categorical=False,\n",
       "             gamma=0, gpu_id=-1, importance_type=None,\n",
       "             interaction_constraints=&#x27;&#x27;, learning_rate=0.300000012,\n",
       "             max_delta_step=0, max_depth=6, min_child_weight=1, missing=nan,\n",
       "             monotone_constraints=&#x27;()&#x27;, n_estimators=100, n_jobs=12,\n",
       "             num_parallel_tree=1, predictor=&#x27;auto&#x27;, random_state=0, reg_alpha=0,\n",
       "             reg_lambda=1, scale_pos_weight=1, subsample=1, tree_method=&#x27;exact&#x27;,\n",
       "             validate_parameters=1, verbosity=None)</pre></div></div></div></div></div>"
      ],
      "text/plain": [
       "XGBRegressor(base_score=0.5, booster='gbtree', colsample_bylevel=1,\n",
       "             colsample_bynode=1, colsample_bytree=1, enable_categorical=False,\n",
       "             gamma=0, gpu_id=-1, importance_type=None,\n",
       "             interaction_constraints='', learning_rate=0.300000012,\n",
       "             max_delta_step=0, max_depth=6, min_child_weight=1, missing=nan,\n",
       "             monotone_constraints='()', n_estimators=100, n_jobs=12,\n",
       "             num_parallel_tree=1, predictor='auto', random_state=0, reg_alpha=0,\n",
       "             reg_lambda=1, scale_pos_weight=1, subsample=1, tree_method='exact',\n",
       "             validate_parameters=1, verbosity=None)"
      ]
     },
     "execution_count": 34,
     "metadata": {},
     "output_type": "execute_result"
    }
   ],
   "source": [
    "model.fit(X, y)"
   ]
  },
  {
   "cell_type": "markdown",
   "id": "7105d221",
   "metadata": {},
   "source": [
    "We predict the age based with the model trained in the code block above on X_test(the clean test data)"
   ]
  },
  {
   "cell_type": "code",
   "execution_count": 35,
   "id": "25e564a7-96a8-41cf-81b1-0d3cb3ee801f",
   "metadata": {},
   "outputs": [
    {
     "data": {
      "text/plain": [
       "array([29.61592   , 11.645875  , 32.733345  , 32.59539   , 28.982075  ,\n",
       "        6.805506  , 21.551044  , 11.552687  , 30.323124  , 27.891098  ,\n",
       "       43.59116   , 34.6083    , 45.2575    , 33.228676  , 40.544964  ,\n",
       "       10.578039  , 39.636227  , 44.671383  , 38.187035  , 43.49068   ,\n",
       "        0.51472634, 30.52768   , 21.81449   , 29.890509  , 29.750868  ,\n",
       "       28.800314  , 27.787771  , 30.639275  , 19.550314  , 22.724663  ,\n",
       "       25.099821  , 19.98789   , 35.571507  , 35.014297  , 25.561426  ,\n",
       "       32.68694   , 31.785522  , 35.3464    , 50.780823  , 34.546204  ,\n",
       "       12.450188  , 26.93968   , 41.33641   , 41.216614  , 38.753963  ,\n",
       "       22.554886  , 14.7937355 , 21.466509  , 48.637913  , 37.095783  ,\n",
       "       37.584747  , 33.74455   , 30.8529    , 25.852428  , 23.980745  ,\n",
       "       24.857702  , 44.01738   ,  5.5597954 , 21.307789  , 33.919735  ,\n",
       "       36.837673  , 28.926031  ,  8.51908   , 43.541553  , 21.863     ,\n",
       "       48.91516   , 16.957909  , 43.26497   , 27.379827  , 36.73192   ,\n",
       "       27.383282  , 36.45558   , 24.581236  , 42.83905   , 38.98236   ,\n",
       "       29.336533  , 29.226303  , 37.860844  , 21.888235  , 41.643494  ,\n",
       "        8.656809  , 52.513214  , 22.500542  , 20.813358  , 27.266157  ,\n",
       "       23.674805  ,  8.656809  , 32.201565  , 32.276398  , 29.86525   ,\n",
       "       37.335056  , 32.651546  , 35.338974  , 31.127054  , 18.029188  ,\n",
       "       17.095457  , 38.99051   , 30.36159   , 32.372482  , 27.27073   ,\n",
       "       33.495556  , 37.644306  , 43.750862  ,  5.4210415 ,  5.9880047 ,\n",
       "       32.842373  , 19.547626  , 28.535582  , 29.669836  , 42.88863   ,\n",
       "       15.051469  , 34.518616  ,  6.7958126 , 30.595026  , 25.918394  ,\n",
       "       27.688042  , 37.09365   , 10.318305  , 27.935879  , 24.729729  ,\n",
       "       26.79345   ,  0.5243002 , 20.334333  , 28.613085  , 27.111359  ,\n",
       "       22.582075  , 30.729462  , 38.135223  , 20.799932  , 51.937572  ,\n",
       "       25.661234  , 24.87464   , 25.130955  , 26.942541  , 11.550323  ,\n",
       "       25.18339   , 24.487484  , 48.146214  ,  6.520481  ,  1.3477178 ,\n",
       "       23.470793  , 29.87602   , 29.78468   ], dtype=float32)"
      ]
     },
     "metadata": {},
     "output_type": "display_data"
    }
   ],
   "source": [
    "preds = model.predict(X_test)\n",
    "\n",
    "display(preds)"
   ]
  },
  {
   "cell_type": "markdown",
   "id": "5bdb4d0e",
   "metadata": {},
   "source": [
    "We use the mean_squared_error method imported earlier to find the mse between the predicted ages and the clean age data set (y_test)."
   ]
  },
  {
   "cell_type": "code",
   "execution_count": 36,
   "id": "7dc86964-baaa-4158-ab82-6c8a257deb6c",
   "metadata": {},
   "outputs": [],
   "source": [
    "mse = mean_squared_error(preds, y_test)"
   ]
  },
  {
   "cell_type": "markdown",
   "id": "a7e5a7a1",
   "metadata": {},
   "source": [
    "We find if any of our ages are below 1."
   ]
  },
  {
   "cell_type": "code",
   "execution_count": 37,
   "id": "7086595d-1ce8-4a83-b637-5fe736774543",
   "metadata": {},
   "outputs": [
    {
     "data": {
      "text/plain": [
       "974    0.42\n",
       "Name: Age, dtype: float64"
      ]
     },
     "execution_count": 37,
     "metadata": {},
     "output_type": "execute_result"
    }
   ],
   "source": [
    "y.loc[df[\"Age\"] < 1]\n",
    "#display(X_test.tail())"
   ]
  },
  {
   "cell_type": "markdown",
   "id": "7a2d7f18",
   "metadata": {},
   "source": [
    "The assignment specified we should find root mse. We use np.sqrt() on the mean square error to find root mse of our trained model for predicting age"
   ]
  },
  {
   "cell_type": "code",
   "execution_count": 38,
   "id": "e13fef3e-850f-4239-ab09-b86e12a16fd3",
   "metadata": {},
   "outputs": [
    {
     "data": {
      "text/plain": [
       "12.606453245944877"
      ]
     },
     "execution_count": 38,
     "metadata": {},
     "output_type": "execute_result"
    }
   ],
   "source": [
    "np.sqrt(mse)"
   ]
  },
  {
   "cell_type": "markdown",
   "id": "ca4e7dd0",
   "metadata": {},
   "source": [
    "Hyperparametrization:"
   ]
  },
  {
   "cell_type": "code",
   "execution_count": 39,
   "id": "234e24f4-3151-427d-908c-6fe6722e2e23",
   "metadata": {},
   "outputs": [],
   "source": [
    "params = {\n",
    "    \"learning_rate\": [0.05, 0.10, 0.15, 0.20, 0.25, 0.30],\n",
    "    \"max_depth\": [3, 4, 5, 6, 8, 10, 12, 15],\n",
    "    \"min_child_weight\": [1, 3, 5, 7],\n",
    "    \"gamma\": [0.0, 0.1, 0.2, 0.3, 0.4],\n",
    "    \"colsample_bytree\": [0.3, 0.4, 0.5, 0.7],\n",
    "    \"n_estimators\": [100, 200, 300, 400, 500, 900, 1100, 1500],\n",
    "}"
   ]
  },
  {
   "cell_type": "markdown",
   "id": "6c596bc2",
   "metadata": {},
   "source": [
    "Defining a new model and using random_search to find the best model with 100 iterations (n_iter)."
   ]
  },
  {
   "cell_type": "code",
   "execution_count": 40,
   "id": "1ed2b00a-7449-40cf-aba2-b040262cdd0a",
   "metadata": {},
   "outputs": [
    {
     "name": "stderr",
     "output_type": "stream",
     "text": [
      "c:\\Users\\alsin\\miniconda3\\envs\\intro-ai\\lib\\site-packages\\xgboost\\data.py:250: FutureWarning: pandas.Int64Index is deprecated and will be removed from pandas in a future version. Use pandas.Index with the appropriate dtype instead.\n",
      "  elif isinstance(data.columns, (pd.Int64Index, pd.RangeIndex)):\n"
     ]
    },
    {
     "data": {
      "text/html": [
       "<style>#sk-container-id-2 {color: black;background-color: white;}#sk-container-id-2 pre{padding: 0;}#sk-container-id-2 div.sk-toggleable {background-color: white;}#sk-container-id-2 label.sk-toggleable__label {cursor: pointer;display: block;width: 100%;margin-bottom: 0;padding: 0.3em;box-sizing: border-box;text-align: center;}#sk-container-id-2 label.sk-toggleable__label-arrow:before {content: \"▸\";float: left;margin-right: 0.25em;color: #696969;}#sk-container-id-2 label.sk-toggleable__label-arrow:hover:before {color: black;}#sk-container-id-2 div.sk-estimator:hover label.sk-toggleable__label-arrow:before {color: black;}#sk-container-id-2 div.sk-toggleable__content {max-height: 0;max-width: 0;overflow: hidden;text-align: left;background-color: #f0f8ff;}#sk-container-id-2 div.sk-toggleable__content pre {margin: 0.2em;color: black;border-radius: 0.25em;background-color: #f0f8ff;}#sk-container-id-2 input.sk-toggleable__control:checked~div.sk-toggleable__content {max-height: 200px;max-width: 100%;overflow: auto;}#sk-container-id-2 input.sk-toggleable__control:checked~label.sk-toggleable__label-arrow:before {content: \"▾\";}#sk-container-id-2 div.sk-estimator input.sk-toggleable__control:checked~label.sk-toggleable__label {background-color: #d4ebff;}#sk-container-id-2 div.sk-label input.sk-toggleable__control:checked~label.sk-toggleable__label {background-color: #d4ebff;}#sk-container-id-2 input.sk-hidden--visually {border: 0;clip: rect(1px 1px 1px 1px);clip: rect(1px, 1px, 1px, 1px);height: 1px;margin: -1px;overflow: hidden;padding: 0;position: absolute;width: 1px;}#sk-container-id-2 div.sk-estimator {font-family: monospace;background-color: #f0f8ff;border: 1px dotted black;border-radius: 0.25em;box-sizing: border-box;margin-bottom: 0.5em;}#sk-container-id-2 div.sk-estimator:hover {background-color: #d4ebff;}#sk-container-id-2 div.sk-parallel-item::after {content: \"\";width: 100%;border-bottom: 1px solid gray;flex-grow: 1;}#sk-container-id-2 div.sk-label:hover label.sk-toggleable__label {background-color: #d4ebff;}#sk-container-id-2 div.sk-serial::before {content: \"\";position: absolute;border-left: 1px solid gray;box-sizing: border-box;top: 0;bottom: 0;left: 50%;z-index: 0;}#sk-container-id-2 div.sk-serial {display: flex;flex-direction: column;align-items: center;background-color: white;padding-right: 0.2em;padding-left: 0.2em;position: relative;}#sk-container-id-2 div.sk-item {position: relative;z-index: 1;}#sk-container-id-2 div.sk-parallel {display: flex;align-items: stretch;justify-content: center;background-color: white;position: relative;}#sk-container-id-2 div.sk-item::before, #sk-container-id-2 div.sk-parallel-item::before {content: \"\";position: absolute;border-left: 1px solid gray;box-sizing: border-box;top: 0;bottom: 0;left: 50%;z-index: -1;}#sk-container-id-2 div.sk-parallel-item {display: flex;flex-direction: column;z-index: 1;position: relative;background-color: white;}#sk-container-id-2 div.sk-parallel-item:first-child::after {align-self: flex-end;width: 50%;}#sk-container-id-2 div.sk-parallel-item:last-child::after {align-self: flex-start;width: 50%;}#sk-container-id-2 div.sk-parallel-item:only-child::after {width: 0;}#sk-container-id-2 div.sk-dashed-wrapped {border: 1px dashed gray;margin: 0 0.4em 0.5em 0.4em;box-sizing: border-box;padding-bottom: 0.4em;background-color: white;}#sk-container-id-2 div.sk-label label {font-family: monospace;font-weight: bold;display: inline-block;line-height: 1.2em;}#sk-container-id-2 div.sk-label-container {text-align: center;}#sk-container-id-2 div.sk-container {/* jupyter's `normalize.less` sets `[hidden] { display: none; }` but bootstrap.min.css set `[hidden] { display: none !important; }` so we also need the `!important` here to be able to override the default hidden behavior on the sphinx rendered scikit-learn.org. See: https://github.com/scikit-learn/scikit-learn/issues/21755 */display: inline-block !important;position: relative;}#sk-container-id-2 div.sk-text-repr-fallback {display: none;}</style><div id=\"sk-container-id-2\" class=\"sk-top-container\"><div class=\"sk-text-repr-fallback\"><pre>RandomizedSearchCV(cv=5,\n",
       "                   estimator=XGBRegressor(base_score=None, booster=None,\n",
       "                                          colsample_bylevel=None,\n",
       "                                          colsample_bynode=None,\n",
       "                                          colsample_bytree=None,\n",
       "                                          enable_categorical=False, gamma=None,\n",
       "                                          gpu_id=None, importance_type=None,\n",
       "                                          interaction_constraints=None,\n",
       "                                          learning_rate=None,\n",
       "                                          max_delta_step=None, max_depth=None,\n",
       "                                          min_child_weight=None, missing=nan,\n",
       "                                          monotone_constraints=...\n",
       "                                          tree_method=None,\n",
       "                                          validate_parameters=None,\n",
       "                                          verbosity=None),\n",
       "                   n_iter=100, n_jobs=-1,\n",
       "                   param_distributions={&#x27;colsample_bytree&#x27;: [0.3, 0.4, 0.5,\n",
       "                                                             0.7],\n",
       "                                        &#x27;gamma&#x27;: [0.0, 0.1, 0.2, 0.3, 0.4],\n",
       "                                        &#x27;learning_rate&#x27;: [0.05, 0.1, 0.15, 0.2,\n",
       "                                                          0.25, 0.3],\n",
       "                                        &#x27;max_depth&#x27;: [3, 4, 5, 6, 8, 10, 12,\n",
       "                                                      15],\n",
       "                                        &#x27;min_child_weight&#x27;: [1, 3, 5, 7],\n",
       "                                        &#x27;n_estimators&#x27;: [100, 200, 300, 400,\n",
       "                                                         500, 900, 1100,\n",
       "                                                         1500]},\n",
       "                   scoring=&#x27;neg_mean_squared_error&#x27;)</pre><b>In a Jupyter environment, please rerun this cell to show the HTML representation or trust the notebook. <br />On GitHub, the HTML representation is unable to render, please try loading this page with nbviewer.org.</b></div><div class=\"sk-container\" hidden><div class=\"sk-item sk-dashed-wrapped\"><div class=\"sk-label-container\"><div class=\"sk-label sk-toggleable\"><input class=\"sk-toggleable__control sk-hidden--visually\" id=\"sk-estimator-id-2\" type=\"checkbox\" ><label for=\"sk-estimator-id-2\" class=\"sk-toggleable__label sk-toggleable__label-arrow\">RandomizedSearchCV</label><div class=\"sk-toggleable__content\"><pre>RandomizedSearchCV(cv=5,\n",
       "                   estimator=XGBRegressor(base_score=None, booster=None,\n",
       "                                          colsample_bylevel=None,\n",
       "                                          colsample_bynode=None,\n",
       "                                          colsample_bytree=None,\n",
       "                                          enable_categorical=False, gamma=None,\n",
       "                                          gpu_id=None, importance_type=None,\n",
       "                                          interaction_constraints=None,\n",
       "                                          learning_rate=None,\n",
       "                                          max_delta_step=None, max_depth=None,\n",
       "                                          min_child_weight=None, missing=nan,\n",
       "                                          monotone_constraints=...\n",
       "                                          tree_method=None,\n",
       "                                          validate_parameters=None,\n",
       "                                          verbosity=None),\n",
       "                   n_iter=100, n_jobs=-1,\n",
       "                   param_distributions={&#x27;colsample_bytree&#x27;: [0.3, 0.4, 0.5,\n",
       "                                                             0.7],\n",
       "                                        &#x27;gamma&#x27;: [0.0, 0.1, 0.2, 0.3, 0.4],\n",
       "                                        &#x27;learning_rate&#x27;: [0.05, 0.1, 0.15, 0.2,\n",
       "                                                          0.25, 0.3],\n",
       "                                        &#x27;max_depth&#x27;: [3, 4, 5, 6, 8, 10, 12,\n",
       "                                                      15],\n",
       "                                        &#x27;min_child_weight&#x27;: [1, 3, 5, 7],\n",
       "                                        &#x27;n_estimators&#x27;: [100, 200, 300, 400,\n",
       "                                                         500, 900, 1100,\n",
       "                                                         1500]},\n",
       "                   scoring=&#x27;neg_mean_squared_error&#x27;)</pre></div></div></div><div class=\"sk-parallel\"><div class=\"sk-parallel-item\"><div class=\"sk-item\"><div class=\"sk-label-container\"><div class=\"sk-label sk-toggleable\"><input class=\"sk-toggleable__control sk-hidden--visually\" id=\"sk-estimator-id-3\" type=\"checkbox\" ><label for=\"sk-estimator-id-3\" class=\"sk-toggleable__label sk-toggleable__label-arrow\">estimator: XGBRegressor</label><div class=\"sk-toggleable__content\"><pre>XGBRegressor(base_score=None, booster=None, colsample_bylevel=None,\n",
       "             colsample_bynode=None, colsample_bytree=None,\n",
       "             enable_categorical=False, gamma=None, gpu_id=None,\n",
       "             importance_type=None, interaction_constraints=None,\n",
       "             learning_rate=None, max_delta_step=None, max_depth=None,\n",
       "             min_child_weight=None, missing=nan, monotone_constraints=None,\n",
       "             n_estimators=100, n_jobs=None, num_parallel_tree=None,\n",
       "             predictor=None, random_state=None, reg_alpha=None, reg_lambda=None,\n",
       "             scale_pos_weight=None, subsample=None, tree_method=None,\n",
       "             validate_parameters=None, verbosity=None)</pre></div></div></div><div class=\"sk-serial\"><div class=\"sk-item\"><div class=\"sk-estimator sk-toggleable\"><input class=\"sk-toggleable__control sk-hidden--visually\" id=\"sk-estimator-id-4\" type=\"checkbox\" ><label for=\"sk-estimator-id-4\" class=\"sk-toggleable__label sk-toggleable__label-arrow\">XGBRegressor</label><div class=\"sk-toggleable__content\"><pre>XGBRegressor(base_score=None, booster=None, colsample_bylevel=None,\n",
       "             colsample_bynode=None, colsample_bytree=None,\n",
       "             enable_categorical=False, gamma=None, gpu_id=None,\n",
       "             importance_type=None, interaction_constraints=None,\n",
       "             learning_rate=None, max_delta_step=None, max_depth=None,\n",
       "             min_child_weight=None, missing=nan, monotone_constraints=None,\n",
       "             n_estimators=100, n_jobs=None, num_parallel_tree=None,\n",
       "             predictor=None, random_state=None, reg_alpha=None, reg_lambda=None,\n",
       "             scale_pos_weight=None, subsample=None, tree_method=None,\n",
       "             validate_parameters=None, verbosity=None)</pre></div></div></div></div></div></div></div></div></div></div>"
      ],
      "text/plain": [
       "RandomizedSearchCV(cv=5,\n",
       "                   estimator=XGBRegressor(base_score=None, booster=None,\n",
       "                                          colsample_bylevel=None,\n",
       "                                          colsample_bynode=None,\n",
       "                                          colsample_bytree=None,\n",
       "                                          enable_categorical=False, gamma=None,\n",
       "                                          gpu_id=None, importance_type=None,\n",
       "                                          interaction_constraints=None,\n",
       "                                          learning_rate=None,\n",
       "                                          max_delta_step=None, max_depth=None,\n",
       "                                          min_child_weight=None, missing=nan,\n",
       "                                          monotone_constraints=...\n",
       "                                          tree_method=None,\n",
       "                                          validate_parameters=None,\n",
       "                                          verbosity=None),\n",
       "                   n_iter=100, n_jobs=-1,\n",
       "                   param_distributions={'colsample_bytree': [0.3, 0.4, 0.5,\n",
       "                                                             0.7],\n",
       "                                        'gamma': [0.0, 0.1, 0.2, 0.3, 0.4],\n",
       "                                        'learning_rate': [0.05, 0.1, 0.15, 0.2,\n",
       "                                                          0.25, 0.3],\n",
       "                                        'max_depth': [3, 4, 5, 6, 8, 10, 12,\n",
       "                                                      15],\n",
       "                                        'min_child_weight': [1, 3, 5, 7],\n",
       "                                        'n_estimators': [100, 200, 300, 400,\n",
       "                                                         500, 900, 1100,\n",
       "                                                         1500]},\n",
       "                   scoring='neg_mean_squared_error')"
      ]
     },
     "execution_count": 40,
     "metadata": {},
     "output_type": "execute_result"
    }
   ],
   "source": [
    "model2 = xgb.XGBRegressor()\n",
    "\n",
    "random_search = RandomizedSearchCV(model2, param_distributions=params, n_iter=100, scoring=\"neg_mean_squared_error\", n_jobs=-1, cv=5)\n",
    "\n",
    "random_search.fit(X,y)"
   ]
  },
  {
   "cell_type": "markdown",
   "id": "70ac85ac",
   "metadata": {},
   "source": [
    "Using the best parameters"
   ]
  },
  {
   "cell_type": "code",
   "execution_count": 41,
   "id": "273e829f-2f4a-4de7-8aa9-948f74808250",
   "metadata": {},
   "outputs": [
    {
     "data": {
      "text/plain": [
       "{'n_estimators': 100,\n",
       " 'min_child_weight': 1,\n",
       " 'max_depth': 3,\n",
       " 'learning_rate': 0.1,\n",
       " 'gamma': 0.2,\n",
       " 'colsample_bytree': 0.3}"
      ]
     },
     "execution_count": 41,
     "metadata": {},
     "output_type": "execute_result"
    }
   ],
   "source": [
    "model_new = random_search.best_params_\n",
    "model_new"
   ]
  },
  {
   "cell_type": "markdown",
   "id": "30d66ef5",
   "metadata": {},
   "source": [
    "Using the best estimator:"
   ]
  },
  {
   "cell_type": "code",
   "execution_count": 42,
   "id": "8d7d3c94-dffb-4dfa-a4c7-e3a265e79924",
   "metadata": {},
   "outputs": [],
   "source": [
    "model_new = random_search.best_estimator_"
   ]
  },
  {
   "cell_type": "markdown",
   "id": "dea2cb08",
   "metadata": {},
   "source": [
    "Confirming the new model is of the type XGBRegressor."
   ]
  },
  {
   "cell_type": "code",
   "execution_count": 43,
   "id": "2b9367e5-51ce-4a03-961b-b7116745bd68",
   "metadata": {},
   "outputs": [
    {
     "data": {
      "text/plain": [
       "xgboost.sklearn.XGBRegressor"
      ]
     },
     "execution_count": 43,
     "metadata": {},
     "output_type": "execute_result"
    }
   ],
   "source": [
    "type(model_new)"
   ]
  },
  {
   "cell_type": "markdown",
   "id": "5a8b4be5",
   "metadata": {},
   "source": [
    "Creating a new prediction set based on the new model and the clean test data of X_test"
   ]
  },
  {
   "cell_type": "code",
   "execution_count": 44,
   "id": "2b4f7d84-9b33-4330-a3c2-575c4002d238",
   "metadata": {},
   "outputs": [],
   "source": [
    "preds2 = model_new.predict(X_test)"
   ]
  },
  {
   "cell_type": "markdown",
   "id": "18b829e3",
   "metadata": {},
   "source": [
    "Creating the new mse based on our second prediction using the best estimator and parameters and comparing it to y_test (the clean y data)."
   ]
  },
  {
   "cell_type": "code",
   "execution_count": 45,
   "id": "2c6d9eea-b103-42e4-b07b-adf85326a0a9",
   "metadata": {},
   "outputs": [],
   "source": [
    "mse_new = mean_squared_error(preds2, y_test)"
   ]
  },
  {
   "cell_type": "markdown",
   "id": "c856c89c",
   "metadata": {},
   "source": [
    "Finding the rmse of our new and improved prediction model. As we can see the rmse has now lowered from 12.6 to 11.85. Not too shabby!"
   ]
  },
  {
   "cell_type": "code",
   "execution_count": 46,
   "id": "aa497aaf-45a5-4c2b-af32-9c8426439beb",
   "metadata": {},
   "outputs": [
    {
     "data": {
      "text/plain": [
       "11.93322365340896"
      ]
     },
     "execution_count": 46,
     "metadata": {},
     "output_type": "execute_result"
    }
   ],
   "source": [
    "np.sqrt(mse_new)"
   ]
  }
 ],
 "metadata": {
  "kernelspec": {
   "display_name": "Python 3.8.13 ('intro-ai')",
   "language": "python",
   "name": "python3"
  },
  "language_info": {
   "codemirror_mode": {
    "name": "ipython",
    "version": 3
   },
   "file_extension": ".py",
   "mimetype": "text/x-python",
   "name": "python",
   "nbconvert_exporter": "python",
   "pygments_lexer": "ipython3",
   "version": "3.8.13"
  },
  "vscode": {
   "interpreter": {
    "hash": "00daddfb0a0cda5ad3a9af29a2cbf592dcad013718e6ee46f95cb8c28ecc7a75"
   }
  }
 },
 "nbformat": 4,
 "nbformat_minor": 5
}
